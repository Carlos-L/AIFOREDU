{
 "cells": [
  {
   "cell_type": "code",
   "execution_count": 5,
   "metadata": {},
   "outputs": [],
   "source": [
    "import streamlit as st\n",
    "# from google.cloud import vision  # 如果需要使用 Google Cloud Vision API\n",
    "import os\n",
    "os.environ['REQUESTS_CA_BUNDLE'] = ''\n",
    "from datetime import datetime\n",
    "from pathlib import Path\n",
    "import json\n",
    "import requests\n"
   ]
  },
  {
   "cell_type": "code",
   "execution_count": 4,
   "metadata": {},
   "outputs": [],
   "source": [
    "import certifi\n",
    "import os\n",
    "os.environ['SSL_CERT_FILE'] = certifi.where()"
   ]
  },
  {
   "cell_type": "code",
   "execution_count": 2,
   "metadata": {},
   "outputs": [],
   "source": [
    "import os\n",
    "os.environ[\"http_proxy\"] = \"http://localhost:7897\"\n",
    "os.environ[\"https_proxy\"] = \"http://localhost:7897\""
   ]
  },
  {
   "cell_type": "code",
   "execution_count": 3,
   "metadata": {},
   "outputs": [
    {
     "name": "stdout",
     "output_type": "stream",
     "text": [
      "421\n"
     ]
    }
   ],
   "source": [
    "import requests\n",
    "print(requests.get('https://api.openai.com').status_code)"
   ]
  },
  {
   "cell_type": "code",
   "execution_count": null,
   "metadata": {},
   "outputs": [],
   "source": [
    "from openai import OpenAI\n",
    "DSapikey=\"sk-9f4bd55f1fde4089a109ba6a9dfb61e1\"\n",
    "client_DeepSeek = OpenAI(api_key=DSapikey, base_url=\"https://api.deepseek.com\")"
   ]
  },
  {
   "cell_type": "code",
   "execution_count": null,
   "metadata": {},
   "outputs": [],
   "source": [
    "prompt = '用于测试'\n",
    "user = '但会任何语句以显示测试成功'\n",
    "completion = client_DeepSeek.chat.completions.create(\n",
    "        model=\"deepseek-chat\",\n",
    "        # stream=True,\n",
    "        messages=[\n",
    "        {\"role\": \"system\", \"content\": prompt},\n",
    "        {\"role\": \"user\", \"content\": user},\n",
    "    ],\n",
    "    stream=True\n",
    "    )"
   ]
  },
  {
   "cell_type": "code",
   "execution_count": null,
   "metadata": {},
   "outputs": [],
   "source": [
    "content = ''\n",
    "for chunk in completion:\n",
    "        # if chunk.choices[0].delta.reasoning_content:\n",
    "        #     reasoning_content += chunk.choices[0].delta.reasoning_content\n",
    "        # else:\n",
    "        content += chunk.choices[0].delta.content"
   ]
  },
  {
   "cell_type": "code",
   "execution_count": null,
   "metadata": {},
   "outputs": [],
   "source": [
    "content"
   ]
  }
 ],
 "metadata": {
  "kernelspec": {
   "display_name": "base",
   "language": "python",
   "name": "python3"
  },
  "language_info": {
   "codemirror_mode": {
    "name": "ipython",
    "version": 3
   },
   "file_extension": ".py",
   "mimetype": "text/x-python",
   "name": "python",
   "nbconvert_exporter": "python",
   "pygments_lexer": "ipython3",
   "version": "3.12.7"
  }
 },
 "nbformat": 4,
 "nbformat_minor": 2
}
